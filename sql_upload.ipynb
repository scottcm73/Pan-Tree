{
 "cells": [
  {
   "cell_type": "code",
   "execution_count": 11,
   "metadata": {},
   "outputs": [],
   "source": [
    "import pandas as pd\n",
    "import os"
   ]
  },
  {
   "cell_type": "code",
   "execution_count": 92,
   "metadata": {},
   "outputs": [],
   "source": [
    "prior_path = os.path.join('Resources', 'order_products__prior.csv')\n",
    "train_path = os.path.join('Resources', 'order_products__train.csv')\n",
    "order_path = os.path.join('Resources', 'orders2.csv')\n",
    "department_path = os.path.join('Resources', 'departments.csv')\n",
    "aisles_path = os.path.join('Resources', 'aisles.csv')\n",
    "products_path = os.path.join('Resources', 'products_price.csv')"
   ]
  },
  {
   "cell_type": "code",
   "execution_count": 93,
   "metadata": {},
   "outputs": [],
   "source": [
    "prior_df = pd.read_csv(prior_path)\n",
    "train_df = pd.read_csv(train_path)\n",
    "order_df = pd.read_csv(order_path) \n",
    "department_df = pd.read_csv(department_path)\n",
    "aisles_df = pd.read_csv(aisles_path)\n",
    "products_df = pd.read_csv(products_path) "
   ]
  },
  {
   "cell_type": "code",
   "execution_count": 95,
   "metadata": {},
   "outputs": [],
   "source": [
    "order_products_df = pd.concat([prior_df, train_df])"
   ]
  },
  {
   "cell_type": "code",
   "execution_count": 84,
   "metadata": {},
   "outputs": [],
   "source": [
    "from sqlalchemy import create_engine, MetaData, Table\n",
    "from sqlalchemy.ext.declarative import declarative_base\n",
    "from sqlalchemy.orm import sessionmaker\n",
    "from app_config import USER, PASSWORD, HOST, PORT, DATABASE, DIALECT, DRIVER, secret\n",
    "from sqlalchemy import Column, Integer, String, BigInteger, VARCHAR, SmallInteger\n",
    "from sqlalchemy import *\n",
    "\n",
    "\n",
    "####-----------------------\n",
    "#### make sure USER and PASSWORD agree with\n",
    "#### with your machines local host\n",
    "####-----------------------\n",
    "\n",
    "SQALCHEMY_DATABASE_URL = f\"{DIALECT}+{DRIVER}://{USER}:{PASSWORD}@{HOST}/local_inventory\"\n",
    "\n",
    "engine = create_engine(\n",
    "    SQALCHEMY_DATABASE_URL, \n",
    "    pool_recycle=3600,\n",
    "    pool_pre_ping=True\n",
    ")\n",
    "\n",
    "Base = declarative_base()\n",
    "\n",
    "class DictMixIn:\n",
    "    def to_dict(self):\n",
    "        return {\n",
    "            column.name: getattr(self, column.name)\n",
    "            if not isinstance(getattr(self, column.name), datetime.datetime)\n",
    "            else getattr(self, column.name).isoformat()\n",
    "            for column in self.__table__.columns\n",
    "        }\n",
    "class User(Base):\n",
    "    __tablename__ = \"users\" \n",
    "    id = Column(Integer, primary_key=True, autoincrement=True)\n",
    "    username = Column(String(15), unique=True)\n",
    "    email = Column(String(50), unique=True)\n",
    "    passw = Column(String(80))\n",
    "\n",
    "class Departments(Base, DictMixIn):\n",
    "    __tablename__ = \"departments\"\n",
    "    department_id = Column(BigInteger, primary_key=True)\n",
    "    department = Column(VARCHAR(30))\n",
    "\n",
    "class Aisles(Base, DictMixIn):\n",
    "    __tablename__ = \"aisles\"\n",
    "    aisle_id = Column(BigInteger, primary_key=True)\n",
    "    aisle = Column(VARCHAR(30))\n",
    "\n",
    "class Products(Base, DictMixIn):\n",
    "    __tablename__ = \"products\"\n",
    "    product_id = Column(BigInteger, primary_key=True)\n",
    "    product_name = Column(VARCHAR (120))\n",
    "    price = Column(Integer)\n",
    "    aisle_id = Column(Integer)\n",
    "    department_id = Column(Integer)\n",
    "\n",
    "class Orders(Base, DictMixIn):\n",
    "    __tablename__ = \"orders\"\n",
    "    order_id = Column(BigInteger, primary_key=True)\n",
    "    user_id = Column(BigInteger)\n",
    "    order_dow = Column(BigInteger)\n",
    "    days_since_prior_order = Column(Integer)\n",
    "\n",
    "class Order_products(Base, DictMixIn):\n",
    "    __tablename__ = \"order_products\"\n",
    "    order_id = Column(BigInteger, primary_key=True )\n",
    "    product_id = Column(BigInteger, ForeignKey('products.product_id'))\n",
    "    num_of_product = Column(Integer)\n",
    "    add_to_cart_order = Column(Integer)\n",
    "    reordered = Column(SmallInteger)\n",
    "\n",
    "Base.metadata.create_all(engine)"
   ]
  },
  {
   "cell_type": "code",
   "execution_count": 94,
   "metadata": {},
   "outputs": [],
   "source": [
    "order_products_df.to_sql(name='order_products',\n",
    "                         con=engine,\n",
    "                         if_exists='replace', \n",
    "                         index=False,\n",
    "                         chunksize=200\n",
    "                        )\n",
    "order_df.to_sql(name='orders',\n",
    "                con=engine,\n",
    "                if_exists='replace',\n",
    "                index=False,\n",
    "                chunksize=200)\n",
    "department_df.to_sql(name='departments',\n",
    "                con=engine,\n",
    "                if_exists='replace',\n",
    "                index=False,\n",
    "                chunksize=200)\n",
    "aisles_df.to_sql(name='aisles',\n",
    "                con=engine,\n",
    "                if_exists='replace',\n",
    "                index=False,\n",
    "                chunksize=200)\n",
    "products_df.to_sql(name='products',\n",
    "                con=engine,\n",
    "                if_exists='replace',\n",
    "                index=False,\n",
    "                chunksize=200)"
   ]
  },
  {
   "cell_type": "code",
   "execution_count": null,
   "metadata": {},
   "outputs": [],
   "source": []
  }
 ],
 "metadata": {
  "kernelspec": {
   "display_name": "Python 3",
   "language": "python",
   "name": "python3"
  },
  "language_info": {
   "codemirror_mode": {
    "name": "ipython",
    "version": 3
   },
   "file_extension": ".py",
   "mimetype": "text/x-python",
   "name": "python",
   "nbconvert_exporter": "python",
   "pygments_lexer": "ipython3",
   "version": "3.7.4"
  }
 },
 "nbformat": 4,
 "nbformat_minor": 4
}
