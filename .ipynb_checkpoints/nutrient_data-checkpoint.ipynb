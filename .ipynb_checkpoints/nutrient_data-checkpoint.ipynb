{
 "cells": [
  {
   "cell_type": "code",
   "execution_count": 6,
   "metadata": {},
   "outputs": [],
   "source": [
    "from sqlalchemy import create_engine, MetaData, Table\n",
    "from sqlalchemy.ext.automap import automap_base\n",
    "from sqlalchemy.orm import Session, sessionmaker\n",
    "from sqlalchemy import Column, Integer, String, BigInteger, VARCHAR, SmallInteger\n",
    "from sqlalchemy import *\n",
    "import requests\n",
    "from requests.auth import HTTPBasicAuth\n",
    "from app_config import (\n",
    "DIALECT,\n",
    "DRIVER,\n",
    "PORT,\n",
    "HOST,\n",
    "USER,\n",
    "PASSWORD,\n",
    "DATABASE\n",
    ")\n",
    "\n",
    "def to_dict(self):\n",
    "    return {\n",
    "        column.name: getattr(self, column.name)\n",
    "        if not isinstance(getattr(self, column.name), datetime.datetime)\n",
    "        else getattr(self, column.name).isoformat()\n",
    "        for column in self.__table__.columns\n",
    "    }\n",
    "\n",
    "from models import Products\n",
    "\n",
    "SQALCHEMY_DATABASE_URL = f\"{DIALECT}+{DRIVER}://{USER}:{PASSWORD}@{HOST}/{DATABASE}\"\n",
    "\n",
    "engine = create_engine(\n",
    "    SQALCHEMY_DATABASE_URL, \n",
    "    pool_recycle=3600,\n",
    "    pool_pre_ping=True\n",
    ")\n",
    "Base = automap_base()\n",
    "Base.prepare(engine, reflect=True)\n",
    "Session = sessionmaker(bind=engine)\n",
    "session = Session()\n"
   ]
  },
  {
   "cell_type": "code",
   "execution_count": 7,
   "metadata": {},
   "outputs": [],
   "source": [
    "product_query = session.query(Products).all()\n"
   ]
  },
  {
   "cell_type": "code",
   "execution_count": 30,
   "metadata": {},
   "outputs": [],
   "source": [
    "dict_list = [p.to_dict() for p in product_query]\n",
    "#'product_id': 3, 'product_name': 'robust golden unsweetened oolong tea', 'price': 3.99, 'aisle_id': 94, 'department_id': 7}\n",
    "#{'product_id': 4, 'product_name': 'smart ones classic favorites mini rigatoni with vodka cream sauce', 'price': 2.99, 'aisle_id': 38, 'department_id': 1}\n",
    "\n",
    "\n",
    "#for p in dict_list:\n",
    "#    print(p)\n",
    "# \"\"\"\n",
    "# list(filter(lambda item: item['product_name'] == 'tea', dict_list))\n",
    "#  note that you made need to use ifilter if the number of dictionaries is too high\n",
    "# prints the folowing\n",
    "\n",
    "# [{'product_id': 23826,\n",
    "#   'product_name': 'tea',\n",
    "#   'price': 3.99,\n",
    "#   'aisle_id': 94,\n",
    "#   'department_id': 7}]\n",
    "# \"\"\"\n",
    "c = [p['product_name'] for p in dict_list]"
   ]
  },
  {
   "cell_type": "code",
   "execution_count": null,
   "metadata": {},
   "outputs": [],
   "source": [
    "import pprint\n",
    "##### for p in product_names:\n",
    "#    api_call \n",
    "#r = requests.g\n",
    "#url = \"https://edamam-food-and-grocery-database.p.rapidapi.com/parser\"\n",
    "\n",
    "# url = \"https://api.edamam.com/api/food-database/parser\"\n",
    "# products = {}\n",
    "\n",
    "# querystring = {'ingr': product_names[11],\n",
    "#                'app_id': '4ccefd3f',\n",
    "#                'app_key': '5f95a55762f1cc4ed973d0c093d6ccad'   \n",
    "#               }\n",
    "# response = requests.get(url, params=querystring)\n",
    "\n",
    "# pprint.pprint({ product_names[11] :\n",
    "#     response.json()['hints'][0]['food']['nutrients']\n",
    "#               })\n",
    "url = \"https://api.edamam.com/api/food-database/parser\"\n",
    "products = []\n",
    "\n",
    "for x in product_names:\n",
    "\n",
    "    querystring = {'ingr': x,\n",
    "                   'app_id': '4ccefd3f',\n",
    "                   'app_key': '5f95a55762f1cc4ed973d0c093d6ccad'   \n",
    "                  }\n",
    "    response = requests.get(url, params=querystring)\n",
    "\n",
    "    products.append({ x :\n",
    "                     response.json()['hints'][0]['food']['nutrients']\n",
    "                  })\n",
    "    \n",
    "products"
   ]
  },
  {
   "cell_type": "code",
   "execution_count": null,
   "metadata": {},
   "outputs": [],
   "source": []
  },
  {
   "cell_type": "code",
   "execution_count": null,
   "metadata": {},
   "outputs": [],
   "source": []
  },
  {
   "cell_type": "code",
   "execution_count": null,
   "metadata": {},
   "outputs": [],
   "source": []
  }
 ],
 "metadata": {
  "kernelspec": {
   "display_name": "Python 3",
   "language": "python",
   "name": "python3"
  },
  "language_info": {
   "codemirror_mode": {
    "name": "ipython",
    "version": 3
   },
   "file_extension": ".py",
   "mimetype": "text/x-python",
   "name": "python",
   "nbconvert_exporter": "python",
   "pygments_lexer": "ipython3",
   "version": "3.7.5"
  }
 },
 "nbformat": 4,
 "nbformat_minor": 4
}
