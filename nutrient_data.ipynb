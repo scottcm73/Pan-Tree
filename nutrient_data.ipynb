{
 "cells": [
  {
   "cell_type": "code",
   "execution_count": 3,
   "metadata": {},
   "outputs": [],
   "source": [
    "from sqlalchemy import create_engine, MetaData, Table\n",
    "from sqlalchemy.ext.automap import automap_base\n",
    "from sqlalchemy.orm import Session, sessionmaker\n",
    "from sqlalchemy import Column, Integer, String, BigInteger, VARCHAR, SmallInteger\n",
    "from sqlalchemy import *\n",
    "import requests\n",
    "from requests.auth import HTTPBasicAuth\n",
    "from app_config import (\n",
    "DIALECT,\n",
    "DRIVER,\n",
    "PORT,\n",
    "HOST,\n",
    "USER,\n",
    "PASSWORD,\n",
    "DATABASE\n",
    ")\n",
    "\n",
    "def to_dict(self):\n",
    "    return {\n",
    "        column.name: getattr(self, column.name)\n",
    "        if not isinstance(getattr(self, column.name), datetime.datetime)\n",
    "        else getattr(self, column.name).isoformat()\n",
    "        for column in self.__table__.columns\n",
    "    }\n",
    "\n",
    "from models import Products\n",
    "\n",
    "SQALCHEMY_DATABASE_URL = f\"{DIALECT}+{DRIVER}://{USER}:{PASSWORD}@{HOST}/{DATABASE}\"\n",
    "\n",
    "engine = create_engine(\n",
    "    SQALCHEMY_DATABASE_URL, \n",
    "    pool_recycle=3600,\n",
    "    pool_pre_ping=True\n",
    ")\n",
    "Base = automap_base()\n",
    "Base.prepare(engine, reflect=True)\n",
    "Session = sessionmaker(bind=engine)\n",
    "session = Session()\n"
   ]
  },
  {
   "cell_type": "code",
   "execution_count": 4,
   "metadata": {},
   "outputs": [],
   "source": [
    "product_query = session.query(Products).all()\n"
   ]
  },
  {
   "cell_type": "code",
   "execution_count": 5,
   "metadata": {},
   "outputs": [],
   "source": [
    "dict_list = [p.to_dict() for p in product_query]\n",
    "#'product_id': 3, 'product_name': 'robust golden unsweetened oolong tea', 'price': 3.99, 'aisle_id': 94, 'department_id': 7}\n",
    "#{'product_id': 4, 'product_name': 'smart ones classic favorites mini rigatoni with vodka cream sauce', 'price': 2.99, 'aisle_id': 38, 'department_id': 1}\n",
    "\n",
    "\n",
    "#for p in dict_list:\n",
    "#    print(p)\n",
    "# \"\"\"\n",
    "# list(filter(lambda item: item['product_name'] == 'tea', dict_list))\n",
    "#  note that you made need to use ifilter if the number of dictionaries is too high\n",
    "# prints the folowing\n",
    "\n",
    "# [{'product_id': 23826,\n",
    "#   'product_name': 'tea',\n",
    "#   'price': 3.99,\n",
    "#   'aisle_id': 94,\n",
    "#   'department_id': 7}]\n",
    "# \"\"\"\n",
    "product_names = [p['product_name'] for p in dict_list]"
   ]
  },
  {
   "cell_type": "code",
   "execution_count": null,
   "metadata": {},
   "outputs": [],
   "source": [
    "import pprint\n",
    "##### for p in product_names:\n",
    "#    api_call \n",
    "#r = requests.g\n",
    "#url = \"https://edamam-food-and-grocery-database.p.rapidapi.com/parser\"\n",
    "\n",
    "# url = \"https://api.edamam.com/api/food-database/parser\"\n",
    "# products = {}\n",
    "\n",
    "# querystring = {'ingr': product_names[11],\n",
    "#                'app_id': '4ccefd3f',\n",
    "#                'app_key': '5f95a55762f1cc4ed973d0c093d6ccad'   \n",
    "#               }\n",
    "# response = requests.get(url, params=querystring)\n",
    "\n",
    "# pprint.pprint({ product_names[11] :\n",
    "#     response.json()['hints'][0]['food']['nutrients']\n",
    "#               })\n",
    "url = \"https://api.edamam.com/api/food-database/parser\"\n",
    "products = []\n",
    "\n",
    "for x in product_names[:500]:\n",
    "    try:\n",
    "        querystring = {'ingr': x,\n",
    "                       'app_id': '4ccefd3f',\n",
    "                       'app_key': '5f95a55762f1cc4ed973d0c093d6ccad'   \n",
    "                      }\n",
    "        response = requests.get(url, params=querystring)\n",
    "\n",
    "        products.append({ x :\n",
    "                         response.json()['hints'][0]['food']['nutrients']\n",
    "                      })\n",
    "    except:\n",
    "        pass\n",
    "    \n",
    "products"
   ]
  },
  {
   "cell_type": "code",
   "execution_count": 1,
   "metadata": {},
   "outputs": [
    {
     "ename": "NameError",
     "evalue": "name 'products' is not defined",
     "output_type": "error",
     "traceback": [
      "\u001b[1;31m---------------------------------------------------------------------------\u001b[0m",
      "\u001b[1;31mNameError\u001b[0m                                 Traceback (most recent call last)",
      "\u001b[1;32m<ipython-input-1-bfaced631bd3>\u001b[0m in \u001b[0;36m<module>\u001b[1;34m\u001b[0m\n\u001b[0;32m      1\u001b[0m \u001b[1;32mimport\u001b[0m \u001b[0mpandas\u001b[0m \u001b[1;32mas\u001b[0m \u001b[0mpd\u001b[0m\u001b[1;33m\u001b[0m\u001b[1;33m\u001b[0m\u001b[0m\n\u001b[0;32m      2\u001b[0m \u001b[1;33m\u001b[0m\u001b[0m\n\u001b[1;32m----> 3\u001b[1;33m \u001b[0mproduct_df\u001b[0m \u001b[1;33m=\u001b[0m \u001b[0mpd\u001b[0m\u001b[1;33m.\u001b[0m\u001b[0mDataFrame\u001b[0m\u001b[1;33m(\u001b[0m\u001b[0mproducts\u001b[0m\u001b[1;33m)\u001b[0m\u001b[1;33m\u001b[0m\u001b[1;33m\u001b[0m\u001b[0m\n\u001b[0m\u001b[0;32m      4\u001b[0m \u001b[1;33m\u001b[0m\u001b[0m\n\u001b[0;32m      5\u001b[0m \u001b[0mlen\u001b[0m\u001b[1;33m(\u001b[0m\u001b[0mproducts\u001b[0m\u001b[1;33m)\u001b[0m\u001b[1;33m\u001b[0m\u001b[1;33m\u001b[0m\u001b[0m\n",
      "\u001b[1;31mNameError\u001b[0m: name 'products' is not defined"
     ]
    }
   ],
   "source": [
    "import pandas as pd\n",
    "\n",
    "product_df = pd.DataFrame(products)\n",
    "\n",
    "len(products)\n",
    "\n"
   ]
  },
  {
   "cell_type": "code",
   "execution_count": null,
   "metadata": {},
   "outputs": [],
   "source": []
  },
  {
   "cell_type": "code",
   "execution_count": null,
   "metadata": {},
   "outputs": [],
   "source": []
  }
 ],
 "metadata": {
  "kernelspec": {
   "display_name": "Python 3",
   "language": "python",
   "name": "python3"
  },
  "language_info": {
   "codemirror_mode": {
    "name": "ipython",
    "version": 3
   },
   "file_extension": ".py",
   "mimetype": "text/x-python",
   "name": "python",
   "nbconvert_exporter": "python",
   "pygments_lexer": "ipython3",
   "version": "3.7.5"
  }
 },
 "nbformat": 4,
 "nbformat_minor": 4
}
